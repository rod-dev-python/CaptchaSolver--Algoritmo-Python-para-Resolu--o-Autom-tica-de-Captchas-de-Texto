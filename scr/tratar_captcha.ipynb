{
 "cells": [
  {
   "cell_type": "code",
   "execution_count": 3,
   "metadata": {},
   "outputs": [],
   "source": [
    "import cv2\n",
    "import os\n",
    "import glob\n",
    "from PIL import Image\n",
    "\n",
    "\n",
    "def tratar_imagens(pasta_origem, pasta_destino=r'C:\\GitHub\\captcha_\\teste\\ajeitado'):\n",
    "    arquivos = glob.glob(f\"{pasta_origem}/*\")\n",
    "    for arquivo in arquivos:\n",
    "        imagem = cv2.imread(arquivo)\n",
    "\n",
    "        # transformar a imagem em escala de cinza\n",
    "        imagem_cinza = cv2.cvtColor(imagem, cv2.COLOR_RGB2GRAY)\n",
    "\n",
    "        _, imagem_tratada = cv2.threshold(imagem_cinza, 127, 255, cv2.THRESH_TRUNC or cv2.THRESH_OTSU)\n",
    "        nome_arquivo = os.path.basename(arquivo)\n",
    "        cv2.imwrite(f'{pasta_destino}/{nome_arquivo}', imagem_tratada)\n",
    "\n",
    "    arquivos = glob.glob(f\"{pasta_destino}/*\")\n",
    "    for arquivo in arquivos:\n",
    "        imagem = Image.open(arquivo)\n",
    "        imagem = imagem.convert(\"P\")\n",
    "        imagem2 = Image.new(\"L\", imagem.size, 255)\n",
    "\n",
    "        for x in range(imagem.size[1]):\n",
    "            for y in range(imagem.size[0]):\n",
    "                cor_pixel = imagem.getpixel((y, x))\n",
    "                if cor_pixel < 115:\n",
    "                    imagem2.putpixel((y, x), 0)\n",
    "        nome_arquivo = os.path.basename(arquivo)\n",
    "        imagem2.save(f'{pasta_destino}/{nome_arquivo}')\n",
    "\n",
    "\n",
    "if __name__ == \"__main__\":\n",
    "    tratar_imagens(r'C:\\GitHub\\captcha_\\teste\\imagens')"
   ]
  }
 ],
 "metadata": {
  "kernelspec": {
   "display_name": "venv",
   "language": "python",
   "name": "python3"
  },
  "language_info": {
   "codemirror_mode": {
    "name": "ipython",
    "version": 3
   },
   "file_extension": ".py",
   "mimetype": "text/x-python",
   "name": "python",
   "nbconvert_exporter": "python",
   "pygments_lexer": "ipython3",
   "version": "3.10.9"
  },
  "orig_nbformat": 4
 },
 "nbformat": 4,
 "nbformat_minor": 2
}
