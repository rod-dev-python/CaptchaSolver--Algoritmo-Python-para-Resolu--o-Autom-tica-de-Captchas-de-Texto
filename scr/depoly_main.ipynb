{
 "cells": [
  {
   "cell_type": "code",
   "execution_count": 1,
   "metadata": {},
   "outputs": [
    {
     "ename": "ModuleNotFoundError",
     "evalue": "No module named 'quebra_nozes'",
     "output_type": "error",
     "traceback": [
      "\u001b[1;31m---------------------------------------------------------------------------\u001b[0m",
      "\u001b[1;31mModuleNotFoundError\u001b[0m                       Traceback (most recent call last)",
      "Cell \u001b[1;32mIn[1], line 1\u001b[0m\n\u001b[1;32m----> 1\u001b[0m \u001b[39mfrom\u001b[39;00m \u001b[39mquebra_nozes\u001b[39;00m \u001b[39mimport\u001b[39;00m quebra_nozes\n\u001b[0;32m      2\u001b[0m texto\u001b[39m=\u001b[39mquebra_nozes()\n\u001b[0;32m      3\u001b[0m \u001b[39mprint\u001b[39m(texto)\n",
      "\u001b[1;31mModuleNotFoundError\u001b[0m: No module named 'quebra_nozes'"
     ]
    }
   ],
   "source": [
    "from quebra_nozes import quebra_nozes\n",
    "texto=quebra_nozes()\n",
    "print(texto)"
   ]
  }
 ],
 "metadata": {
  "kernelspec": {
   "display_name": "venv",
   "language": "python",
   "name": "python3"
  },
  "language_info": {
   "codemirror_mode": {
    "name": "ipython",
    "version": 3
   },
   "file_extension": ".py",
   "mimetype": "text/x-python",
   "name": "python",
   "nbconvert_exporter": "python",
   "pygments_lexer": "ipython3",
   "version": "3.10.9"
  },
  "orig_nbformat": 4
 },
 "nbformat": 4,
 "nbformat_minor": 2
}
