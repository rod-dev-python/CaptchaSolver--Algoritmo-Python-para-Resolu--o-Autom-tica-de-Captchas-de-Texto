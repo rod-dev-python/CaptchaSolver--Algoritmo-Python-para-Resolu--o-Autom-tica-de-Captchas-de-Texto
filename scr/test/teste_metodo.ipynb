{
 "cells": [
  {
   "cell_type": "code",
   "execution_count": 18,
   "metadata": {},
   "outputs": [],
   "source": [
    "import cv2\n",
    "from PIL import Image\n",
    "\n",
    "metodos = [\n",
    "    cv2.THRESH_BINARY,\n",
    "    cv2.THRESH_BINARY_INV,\n",
    "    cv2.THRESH_TRUNC,\n",
    "    cv2.THRESH_TOZERO,\n",
    "    cv2.THRESH_TOZERO_INV,\n",
    "]\n",
    "\n",
    "imagem = cv2.imread(\"imagens/image52.jpg\")\n",
    "\n",
    "# transformar a imagem em escala de cinza\n",
    "imagem_cinza = cv2.cvtColor(imagem, cv2.COLOR_BGR2GRAY)\n",
    "#imagem_cinza = cv2.equalizeHist(imagem_cinza)\n",
    "\n",
    "i = 0\n",
    "for metodo in metodos:\n",
    "    i += 1\n",
    "    _, imagem_tratada = cv2.threshold(imagem_cinza, 127, 255, metodo or cv2.THRESH_OTSU)\n",
    "    cv2.imwrite(f'testesmetodo/imagem_tratada_{i}.png', imagem_tratada)\n",
    "\n",
    "imagem = Image.open(\"testesmetodo/imagem_tratada_1.png\")\n",
    "imagem = imagem.convert(\"L\")\n",
    "imagem2 = Image.new(\"L\", imagem.size, 255)\n",
    "\n",
    "for x in range(imagem.size[1]):\n",
    "    for y in range(imagem.size[0]):\n",
    "        cor_pixel = imagem.getpixel((y, x))\n",
    "        if cor_pixel < 115:\n",
    "            imagem2.putpixel((y, x), 0)\n",
    "imagem2.save('testesmetodo/imagemfinal.png')"
   ]
  },
  {
   "cell_type": "code",
   "execution_count": 14,
   "metadata": {},
   "outputs": [],
   "source": [
    "\n",
    "input_image = r\"C:\\GitHub\\captcha_\\teste\\imagens\\image51.jpg\"\n",
    "output_image = r\"C:\\GitHub\\captcha_\\teste\\imagens\\image.jpg\"\n",
    "input_t = Image.open(input_image)\n",
    "input_ti = input_t.convert(\"RGB\")\n",
    "output = remove(input_ti)\n",
    "output.save(output_image, \"PNG\")"
   ]
  }
 ],
 "metadata": {
  "kernelspec": {
   "display_name": "venv",
   "language": "python",
   "name": "python3"
  },
  "language_info": {
   "codemirror_mode": {
    "name": "ipython",
    "version": 3
   },
   "file_extension": ".py",
   "mimetype": "text/x-python",
   "name": "python",
   "nbconvert_exporter": "python",
   "pygments_lexer": "ipython3",
   "version": "3.10.9"
  },
  "orig_nbformat": 4
 },
 "nbformat": 4,
 "nbformat_minor": 2
}
