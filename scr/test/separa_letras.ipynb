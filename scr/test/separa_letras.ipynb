{
 "cells": [
  {
   "cell_type": "code",
   "execution_count": 35,
   "metadata": {},
   "outputs": [],
   "source": [
    "import cv2\n",
    "import os\n",
    "import glob\n",
    "input_folder = r\"C:\\GitHub\\captcha_\\teste\\ajeitado\"\n",
    "output_folder = r\"C:\\GitHub\\captcha_\\teste\\identificado\"\n",
    "output_folder2 = r\"C:\\GitHub\\captcha_\\teste\\letras\"\n",
    "imagens_antigas = os.listdir(output_folder2)\n",
    "for i in imagens_antigas:\n",
    "    try:\n",
    "        os.remove(rf\"C:\\GitHub\\captcha_\\teste\\letras\\{i}\")\n",
    "    except:\n",
    "        pass\n",
    "arquivos = glob.glob(f'{input_folder}/*')\n",
    "for arquivo in arquivos:\n",
    "    imagem = cv2.imread(arquivo)\n",
    "    imagem = cv2.cvtColor(imagem, cv2.COLOR_RGB2GRAY)\n",
    "    # em preto e branco\n",
    "    _, nova_imagem = cv2.threshold(imagem, 0, 255, cv2.THRESH_BINARY_INV)\n",
    "\n",
    "    # encontrar os contornos de cada letra\n",
    "    contornos, _ = cv2.findContours(nova_imagem, cv2.RETR_EXTERNAL, cv2.CHAIN_APPROX_SIMPLE)\n",
    "\n",
    "    regiao_letras = []\n",
    "\n",
    "    # filtrar os contornos que são realmente de letras\n",
    "    for contorno in contornos:\n",
    "        (x, y, largura, altura) = cv2.boundingRect(contorno)\n",
    "        area = cv2.contourArea(contorno)\n",
    "        if area > 30:\n",
    "            regiao_letras.append((x, y, largura, altura))\n",
    "    if len(regiao_letras) < 2:\n",
    "        continue\n",
    "    # desenhar os contornos e separar as letras em arquivos individuais\n",
    "\n",
    "    imagem_final = cv2.merge([imagem] * 3)\n",
    "\n",
    "    i = 0\n",
    "    for retangulo in regiao_letras:\n",
    "        x, y, largura, altura = retangulo\n",
    "        imagem_letra = imagem[y-2:y+altura+2, x-2:x+largura+2]\n",
    "        i += 1\n",
    "        nome_arquivo = os.path.basename(arquivo).replace(\".png\", f\"letra{i}.jpg\")\n",
    "        cv2.imwrite(f'{output_folder2}/{nome_arquivo}', imagem_letra)\n",
    "        cv2.rectangle(imagem_final, (x-2, y-2), (x+largura+2, y+altura+2), (0, 255, 0), 1)\n",
    "    nome_arquivo = os.path.basename(arquivo)\n",
    "    cv2.imwrite(rf\"{output_folder}/{nome_arquivo}\", imagem_final)"
   ]
  }
 ],
 "metadata": {
  "kernelspec": {
   "display_name": "venv",
   "language": "python",
   "name": "python3"
  },
  "language_info": {
   "codemirror_mode": {
    "name": "ipython",
    "version": 3
   },
   "file_extension": ".py",
   "mimetype": "text/x-python",
   "name": "python",
   "nbconvert_exporter": "python",
   "pygments_lexer": "ipython3",
   "version": "3.10.9"
  },
  "orig_nbformat": 4
 },
 "nbformat": 4,
 "nbformat_minor": 2
}
